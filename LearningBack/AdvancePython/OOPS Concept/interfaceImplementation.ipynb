{
 "cells": [
  {
   "cell_type": "code",
   "execution_count": 3,
   "metadata": {},
   "outputs": [],
   "source": [
    "# class\n",
    "# object\n",
    "# Interface Implementation\n",
    "# Abstraction Concept\n",
    "# solid  "
   ]
  },
  {
   "cell_type": "code",
   "execution_count": 4,
   "metadata": {},
   "outputs": [
    {
     "name": "stdout",
     "output_type": "stream",
     "text": [
      "Requirement already satisfied: zope in c:\\python3\\lib\\site-packages (5.8.3)\n",
      "Requirement already satisfied: AccessControl>=5.2 in c:\\python3\\lib\\site-packages (from zope) (6.1)\n",
      "Requirement already satisfied: Acquisition in c:\\python3\\lib\\site-packages (from zope) (5.0)\n",
      "Requirement already satisfied: BTrees in c:\\python3\\lib\\site-packages (from zope) (5.0)\n",
      "Requirement already satisfied: Chameleon>=3.7.0 in c:\\python3\\lib\\site-packages (from zope) (4.0.1)\n",
      "Requirement already satisfied: DateTime in c:\\python3\\lib\\site-packages (from zope) (5.2)\n",
      "Requirement already satisfied: DocumentTemplate>=4.0 in c:\\python3\\lib\\site-packages (from zope) (4.4)\n",
      "Requirement already satisfied: ExtensionClass in c:\\python3\\lib\\site-packages (from zope) (5.0)\n",
      "Requirement already satisfied: MultiMapping in c:\\python3\\lib\\site-packages (from zope) (5.0)\n",
      "Requirement already satisfied: PasteDeploy in c:\\python3\\lib\\site-packages (from zope) (3.0.1)\n",
      "Requirement already satisfied: Persistence in c:\\python3\\lib\\site-packages (from zope) (4.0.post1)\n",
      "Requirement already satisfied: RestrictedPython in c:\\python3\\lib\\site-packages (from zope) (7.0a1.dev0)\n",
      "Requirement already satisfied: ZConfig>=2.9.2 in c:\\python3\\lib\\site-packages (from zope) (4.0)\n",
      "Requirement already satisfied: ZODB in c:\\python3\\lib\\site-packages (from zope) (5.8.1)\n",
      "Requirement already satisfied: setuptools>=36.2 in c:\\python3\\lib\\site-packages (from zope) (65.5.0)\n",
      "Requirement already satisfied: transaction>=2.4 in c:\\python3\\lib\\site-packages (from zope) (3.1.0)\n",
      "Requirement already satisfied: waitress in c:\\python3\\lib\\site-packages (from zope) (2.1.2)\n",
      "Requirement already satisfied: zExceptions>=3.4 in c:\\python3\\lib\\site-packages (from zope) (5.0)\n",
      "Requirement already satisfied: z3c.pt in c:\\python3\\lib\\site-packages (from zope) (4.0)\n",
      "Requirement already satisfied: zope.browser in c:\\python3\\lib\\site-packages (from zope) (3.0)\n",
      "Requirement already satisfied: zope.browsermenu in c:\\python3\\lib\\site-packages (from zope) (5.0)\n",
      "Requirement already satisfied: zope.browserpage>=4.4.0.dev0 in c:\\python3\\lib\\site-packages (from zope) (5.0)\n",
      "Requirement already satisfied: zope.browserresource>=3.11 in c:\\python3\\lib\\site-packages (from zope) (5.0)\n",
      "Requirement already satisfied: zope.component in c:\\python3\\lib\\site-packages (from zope) (6.0)\n",
      "Requirement already satisfied: zope.configuration in c:\\python3\\lib\\site-packages (from zope) (5.0)\n",
      "Requirement already satisfied: zope.container in c:\\python3\\lib\\site-packages (from zope) (5.1)\n",
      "Requirement already satisfied: zope.contentprovider in c:\\python3\\lib\\site-packages (from zope) (5.0)\n",
      "Requirement already satisfied: zope.contenttype in c:\\python3\\lib\\site-packages (from zope) (5.0)\n",
      "Requirement already satisfied: zope.datetime in c:\\python3\\lib\\site-packages (from zope) (5.0.0)\n",
      "Requirement already satisfied: zope.deferredimport in c:\\python3\\lib\\site-packages (from zope) (5.0)\n",
      "Requirement already satisfied: zope.event in c:\\python3\\lib\\site-packages (from zope) (5.0)\n",
      "Requirement already satisfied: zope.exceptions in c:\\python3\\lib\\site-packages (from zope) (5.0.1)\n",
      "Requirement already satisfied: zope.globalrequest in c:\\python3\\lib\\site-packages (from zope) (2.0)\n",
      "Requirement already satisfied: zope.i18n[zcml] in c:\\python3\\lib\\site-packages (from zope) (5.0)\n",
      "Requirement already satisfied: zope.i18nmessageid in c:\\python3\\lib\\site-packages (from zope) (6.0.1)\n",
      "Requirement already satisfied: zope.interface>=3.8 in c:\\python3\\lib\\site-packages (from zope) (6.0)\n",
      "Requirement already satisfied: zope.lifecycleevent in c:\\python3\\lib\\site-packages (from zope) (5.0)\n",
      "Requirement already satisfied: zope.location in c:\\python3\\lib\\site-packages (from zope) (5.0)\n",
      "Requirement already satisfied: zope.pagetemplate>=4.0.2 in c:\\python3\\lib\\site-packages (from zope) (5.0)\n",
      "Requirement already satisfied: zope.processlifetime in c:\\python3\\lib\\site-packages (from zope) (3.0)\n",
      "Requirement already satisfied: zope.proxy in c:\\python3\\lib\\site-packages (from zope) (5.0.0)\n",
      "Requirement already satisfied: zope.ptresource in c:\\python3\\lib\\site-packages (from zope) (5.0)\n",
      "Requirement already satisfied: zope.publisher in c:\\python3\\lib\\site-packages (from zope) (6.1.0)\n",
      "Requirement already satisfied: zope.schema in c:\\python3\\lib\\site-packages (from zope) (7.0.1)\n",
      "Requirement already satisfied: zope.security in c:\\python3\\lib\\site-packages (from zope) (6.1)\n",
      "Requirement already satisfied: zope.sequencesort in c:\\python3\\lib\\site-packages (from zope) (5.0)\n",
      "Requirement already satisfied: zope.site in c:\\python3\\lib\\site-packages (from zope) (5.0)\n",
      "Requirement already satisfied: zope.size in c:\\python3\\lib\\site-packages (from zope) (5.0)\n",
      "Requirement already satisfied: zope.tal in c:\\python3\\lib\\site-packages (from zope) (5.0.1)\n",
      "Requirement already satisfied: zope.tales>=5.0.2 in c:\\python3\\lib\\site-packages (from zope) (6.0)\n",
      "Requirement already satisfied: zope.testbrowser in c:\\python3\\lib\\site-packages (from zope) (6.0)\n",
      "Requirement already satisfied: zope.testing in c:\\python3\\lib\\site-packages (from zope) (5.0.1)\n",
      "Requirement already satisfied: zope.traversing in c:\\python3\\lib\\site-packages (from zope) (5.0)\n",
      "Requirement already satisfied: zope.viewlet in c:\\python3\\lib\\site-packages (from zope) (5.0)\n",
      "Requirement already satisfied: multipart in c:\\python3\\lib\\site-packages (from zope) (0.2.4)\n",
      "Requirement already satisfied: AuthEncoding in c:\\python3\\lib\\site-packages (from AccessControl>=5.2->zope) (5.0)\n",
      "Requirement already satisfied: roman in c:\\python3\\lib\\site-packages (from DocumentTemplate>=4.0->zope) (4.1)\n",
      "Requirement already satisfied: zope.structuredtext in c:\\python3\\lib\\site-packages (from DocumentTemplate>=4.0->zope) (5.0)\n",
      "Requirement already satisfied: persistent>=4.1.1 in c:\\python3\\lib\\site-packages (from Persistence->zope) (5.0)\n",
      "Requirement already satisfied: zope.hookable>=4.2.0 in c:\\python3\\lib\\site-packages (from zope.component->zope) (5.4)\n",
      "Requirement already satisfied: six in c:\\python3\\lib\\site-packages (from zope.publisher->zope) (1.16.0)\n",
      "Requirement already satisfied: pytz in c:\\python3\\lib\\site-packages (from DateTime->zope) (2023.3)\n",
      "Requirement already satisfied: zc.lockfile in c:\\python3\\lib\\site-packages (from ZODB->zope) (3.0.post1)\n",
      "Requirement already satisfied: zodbpickle>=1.0.1 in c:\\python3\\lib\\site-packages (from ZODB->zope) (3.0.1)\n",
      "Requirement already satisfied: zope.cachedescriptors in c:\\python3\\lib\\site-packages (from zope.container->zope) (5.0)\n",
      "Requirement already satisfied: zope.dottedname in c:\\python3\\lib\\site-packages (from zope.container->zope) (6.0)\n",
      "Requirement already satisfied: zope.filerepresentation in c:\\python3\\lib\\site-packages (from zope.container->zope) (6.0)\n",
      "Requirement already satisfied: python-gettext in c:\\python3\\lib\\site-packages (from zope.i18n[zcml]->zope) (5.0)\n",
      "Requirement already satisfied: zope.deprecation in c:\\python3\\lib\\site-packages (from zope.i18n[zcml]->zope) (5.0)\n",
      "Requirement already satisfied: zope.annotation in c:\\python3\\lib\\site-packages (from zope.site->zope) (5.0)\n",
      "Requirement already satisfied: WebTest>=2.0.30 in c:\\python3\\lib\\site-packages (from zope.testbrowser->zope) (3.0.0)\n",
      "Requirement already satisfied: BeautifulSoup4 in c:\\python3\\lib\\site-packages (from zope.testbrowser->zope) (4.12.2)\n",
      "Requirement already satisfied: SoupSieve>=1.9.0 in c:\\python3\\lib\\site-packages (from zope.testbrowser->zope) (2.4.1)\n",
      "Requirement already satisfied: WSGIProxy2 in c:\\python3\\lib\\site-packages (from zope.testbrowser->zope) (0.5.1)\n",
      "Requirement already satisfied: cffi in c:\\python3\\lib\\site-packages (from persistent>=4.1.1->Persistence->zope) (1.15.1)\n",
      "Requirement already satisfied: WebOb>=1.2 in c:\\python3\\lib\\site-packages (from WebTest>=2.0.30->zope.testbrowser->zope) (1.8.7)\n",
      "Requirement already satisfied: pycparser in c:\\python3\\lib\\site-packages (from cffi->persistent>=4.1.1->Persistence->zope) (2.21)\n",
      "Note: you may need to restart the kernel to use updated packages.\n"
     ]
    },
    {
     "name": "stderr",
     "output_type": "stream",
     "text": [
      "\n",
      "[notice] A new release of pip is available: 23.1.2 -> 23.2.1\n",
      "[notice] To update, run: python.exe -m pip install --upgrade pip\n"
     ]
    }
   ],
   "source": [
    "%pip install zope"
   ]
  },
  {
   "cell_type": "code",
   "execution_count": 78,
   "metadata": {},
   "outputs": [],
   "source": [
    "from zope.interface import *\n",
    "\n",
    "class My1Interface(Interface):\n",
    "    def firstmethod():\n",
    "        \"\"\"implement it\"\"\"\n",
    "    def secondMethod():\n",
    "        \"\"\"Implement it\"\"\"\n",
    "        \n",
    "    "
   ]
  },
  {
   "cell_type": "code",
   "execution_count": 79,
   "metadata": {},
   "outputs": [
    {
     "data": {
      "text/plain": [
       "<class 'zope.interface.interface.InterfaceClass'>"
      ]
     },
     "execution_count": 79,
     "metadata": {},
     "output_type": "execute_result"
    }
   ],
   "source": [
    "type(MyFirstInterface)\n",
    "    "
   ]
  },
  {
   "cell_type": "code",
   "execution_count": 80,
   "metadata": {},
   "outputs": [],
   "source": [
    "@implementer(My1Interface)\n",
    "class myClass:\n",
    "    def firstmethod(self):\n",
    "        print(\"hii\")\n",
    "    def secondMethod(self):\n",
    "        print(\"byy\")\n"
   ]
  },
  {
   "cell_type": "code",
   "execution_count": 81,
   "metadata": {},
   "outputs": [],
   "source": [
    "obj = myClass()"
   ]
  },
  {
   "cell_type": "code",
   "execution_count": 82,
   "metadata": {},
   "outputs": [
    {
     "name": "stdout",
     "output_type": "stream",
     "text": [
      "hii\n"
     ]
    }
   ],
   "source": [
    "obj.firstmethod()"
   ]
  },
  {
   "cell_type": "code",
   "execution_count": 83,
   "metadata": {},
   "outputs": [
    {
     "data": {
      "text/plain": [
       "'This is consistent with Python\\'s general design philosophy of \"we\\'re all consenting adults here\",\\n   meaning that it\\'s up to the programmer to ensure they\\'re using things correctly and the language \\n   or libraries don\\'t try to enforce too many constraints.'"
      ]
     },
     "execution_count": 83,
     "metadata": {},
     "output_type": "execute_result"
    }
   ],
   "source": [
    "# why python not having the strict situation in interface?\n",
    "\n",
    "\"\"\"This is consistent with Python's general design philosophy of \"we're all consenting adults here\",\n",
    "   meaning that it's up to the programmer to ensure they're using things correctly and the language \n",
    "   or libraries don't try to enforce too many constraints.\"\"\"\n",
    "\n",
    "\n",
    "# to varify the same we have verifyClass\n"
   ]
  },
  {
   "cell_type": "code",
   "execution_count": 85,
   "metadata": {},
   "outputs": [],
   "source": [
    "from zope.interface.verify import verifyClass\n",
    "\n",
    "assert verifyClass(My1Interface, myClass)"
   ]
  },
  {
   "cell_type": "code",
   "execution_count": 74,
   "metadata": {},
   "outputs": [],
   "source": [
    "from zope.interface import Interface, implementer\n",
    "\n",
    "class MyFirstInterface(Interface):\n",
    "    def firstmethod():\n",
    "        \"\"\"Some documentation for the first method.\"\"\"\n",
    "        \n",
    "    def secondMethod():\n",
    "        \"\"\"Some documentation for the second method.\"\"\"\n",
    "\n",
    "@implementer(MyFirstInterface)\n",
    "class MyClass:\n",
    "    def firstmethod(self):\n",
    "        print('Hi first function')\n",
    "\n",
    "    def secondMethod(self):\n",
    "        pass\n"
   ]
  },
  {
   "cell_type": "code",
   "execution_count": 76,
   "metadata": {},
   "outputs": [],
   "source": [
    "from zope.interface import implementer\n",
    "from zope.interface.verify import verifyClass\n",
    "\n",
    "# @implementer(MyFirstInterface)\n",
    "# class MyClass:\n",
    "#     pass\n",
    "\n",
    "assert verifyClass(MyFirstInterface, MyClass)  # Raises DoesNotImplement\n"
   ]
  },
  {
   "cell_type": "code",
   "execution_count": null,
   "metadata": {},
   "outputs": [],
   "source": []
  }
 ],
 "metadata": {
  "kernelspec": {
   "display_name": "Python 3",
   "language": "python",
   "name": "python3"
  },
  "language_info": {
   "codemirror_mode": {
    "name": "ipython",
    "version": 3
   },
   "file_extension": ".py",
   "mimetype": "text/x-python",
   "name": "python",
   "nbconvert_exporter": "python",
   "pygments_lexer": "ipython3",
   "version": "3.11.4"
  },
  "orig_nbformat": 4
 },
 "nbformat": 4,
 "nbformat_minor": 2
}
