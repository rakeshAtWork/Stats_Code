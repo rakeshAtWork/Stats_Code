{
 "cells": [
  {
   "cell_type": "code",
   "execution_count": 1,
   "metadata": {},
   "outputs": [],
   "source": [
    "#  file System in python\n",
    "\n",
    "\n",
    "f= open(\"demo.txt\")"
   ]
  },
  {
   "cell_type": "code",
   "execution_count": 2,
   "metadata": {},
   "outputs": [
    {
     "data": {
      "text/plain": [
       "['In',\n",
       " 'Out',\n",
       " '_',\n",
       " '__',\n",
       " '___',\n",
       " '__builtin__',\n",
       " '__builtins__',\n",
       " '__doc__',\n",
       " '__loader__',\n",
       " '__name__',\n",
       " '__package__',\n",
       " '__spec__',\n",
       " '__vsc_ipynb_file__',\n",
       " '_dh',\n",
       " '_i',\n",
       " '_i1',\n",
       " '_i2',\n",
       " '_ih',\n",
       " '_ii',\n",
       " '_iii',\n",
       " '_oh',\n",
       " 'exit',\n",
       " 'f',\n",
       " 'get_ipython',\n",
       " 'open',\n",
       " 'quit']"
      ]
     },
     "execution_count": 2,
     "metadata": {},
     "output_type": "execute_result"
    }
   ],
   "source": [
    "dir()"
   ]
  },
  {
   "cell_type": "code",
   "execution_count": 3,
   "metadata": {},
   "outputs": [
    {
     "name": "stdout",
     "output_type": "stream",
     "text": [
      " Volume in drive D is New Volume\n",
      " Volume Serial Number is 560A-7710\n",
      "\n",
      " Directory of d:\\EDI Mapping In Python\\Learning\\Iterable and File System\n",
      "\n",
      "31-07-2023  17:52    <DIR>          .\n",
      "31-07-2023  17:52    <DIR>          ..\n",
      "31-07-2023  17:55                18 demo.txt\n",
      "31-07-2023  17:54                35 demo2.txt\n",
      "31-07-2023  17:44                 0 fileManupulation.ipynb\n",
      "31-07-2023  17:56            12,704 iterable.ipynb\n",
      "               4 File(s)         12,757 bytes\n",
      "               2 Dir(s)  206,370,521,088 bytes free\n"
     ]
    }
   ],
   "source": [
    "ls"
   ]
  },
  {
   "cell_type": "code",
   "execution_count": 4,
   "metadata": {},
   "outputs": [],
   "source": [
    "f1 = open(\"demo.txt\",\"r\")\n",
    "\n"
   ]
  },
  {
   "cell_type": "code",
   "execution_count": 5,
   "metadata": {},
   "outputs": [
    {
     "data": {
      "text/plain": [
       "<_io.TextIOWrapper name='demo.txt' mode='r' encoding='cp1252'>"
      ]
     },
     "execution_count": 5,
     "metadata": {},
     "output_type": "execute_result"
    }
   ],
   "source": [
    "f1"
   ]
  },
  {
   "cell_type": "code",
   "execution_count": null,
   "metadata": {},
   "outputs": [],
   "source": []
  },
  {
   "cell_type": "code",
   "execution_count": 6,
   "metadata": {},
   "outputs": [],
   "source": [
    "f2= open(\"demo2.txt\",\"w\")\n",
    "\n",
    "f2.write(\"Hello this is my first file\")\n",
    "\n",
    "f2.write(\"new Data\")\n",
    "\n",
    "f2.close()"
   ]
  },
  {
   "cell_type": "code",
   "execution_count": 7,
   "metadata": {},
   "outputs": [
    {
     "name": "stdout",
     "output_type": "stream",
     "text": [
      "Overwriting demo.txt\n"
     ]
    }
   ],
   "source": [
    "%%writefile demo.txt\n",
    "this Is new data"
   ]
  },
  {
   "cell_type": "code",
   "execution_count": 28,
   "metadata": {},
   "outputs": [
    {
     "data": {
      "text/plain": [
       "'this Is new data\\ndhd\\n\\nssnskd\\nskdnsndksn\\nnsdnksndlsndknskdnskndksndkdnsskdnsk\\njddksndks\\n\\nthis Is new data\\ndhd\\n\\nssnskd\\nskdnsndksn\\nnsdnksndlsndknskdnskndksndkdnsskdnsk\\njddksndks\\n\\nthis Is new data\\ndhd\\n\\nssnskd\\nskdnsndksn\\nnsdnksndlsndknskdnskndksndkdnsskdnsk\\njddksndks\\n\\nthis Is new data\\ndhd\\n\\nssnskd\\nskdnsndksn\\nnsdnksndlsndknskdnskndksndkdnsskdnsk\\njddksndks\\n\\nthis Is new data\\ndhd\\n\\nssnskd\\nskdnsndksn\\nnsdnksndlsndknskdnskndksndkdnsskdnsk\\njddksndks\\n\\nthis Is new data\\ndhd\\n\\nssnskd\\nskdnsndksn\\nnsdnksndlsndknskdnskndksndkdnsskdnsk\\njddksndks\\n\\n'"
      ]
     },
     "execution_count": 28,
     "metadata": {},
     "output_type": "execute_result"
    }
   ],
   "source": [
    "# trying to manupulate the  files with different types of mode \n",
    "\n",
    "f3= open(\"demo.txt\")   # here bydefault mode is Read mode\n",
    "\n",
    "\n",
    "f3.read()\n"
   ]
  },
  {
   "cell_type": "code",
   "execution_count": 18,
   "metadata": {},
   "outputs": [
    {
     "data": {
      "text/plain": [
       "''"
      ]
     },
     "execution_count": 18,
     "metadata": {},
     "output_type": "execute_result"
    }
   ],
   "source": [
    "# if ypu have opened a file in a read mode then we cannot able to write something on it.\n",
    "\n",
    "f3.read()   # why its not giving agin the data\n",
    "\n",
    "# here is the problem is curser is set at end and also file is not close, once you close and agij want to read then its possible."
   ]
  },
  {
   "cell_type": "code",
   "execution_count": 19,
   "metadata": {},
   "outputs": [
    {
     "data": {
      "text/plain": [
       "'Is new data\\ndhd\\n\\nssnskd\\nskdnsndksn\\nnsdnksndlsndknskdnskndksndkdnsskdnsk\\njddksndks\\n\\n'"
      ]
     },
     "execution_count": 19,
     "metadata": {},
     "output_type": "execute_result"
    }
   ],
   "source": [
    "# Re-setting cursor\n",
    "\n",
    "\n",
    "f3.seek(5)  # seek function is used to reset the cursour \n",
    "f3.read()"
   ]
  },
  {
   "cell_type": "code",
   "execution_count": 20,
   "metadata": {},
   "outputs": [
    {
     "data": {
      "text/plain": [
       "96"
      ]
     },
     "execution_count": 20,
     "metadata": {},
     "output_type": "execute_result"
    }
   ],
   "source": [
    "f3.tell()"
   ]
  },
  {
   "cell_type": "code",
   "execution_count": 29,
   "metadata": {},
   "outputs": [
    {
     "data": {
      "text/plain": [
       "0"
      ]
     },
     "execution_count": 29,
     "metadata": {},
     "output_type": "execute_result"
    }
   ],
   "source": [
    "f3.seek(0)"
   ]
  },
  {
   "cell_type": "code",
   "execution_count": 23,
   "metadata": {},
   "outputs": [
    {
     "data": {
      "text/plain": [
       "0"
      ]
     },
     "execution_count": 23,
     "metadata": {},
     "output_type": "execute_result"
    }
   ],
   "source": [
    "f3.tell()"
   ]
  },
  {
   "cell_type": "code",
   "execution_count": 24,
   "metadata": {},
   "outputs": [
    {
     "data": {
      "text/plain": [
       "'this Is new data\\ndhd\\n\\nssnskd\\nskdnsndksn\\nnsdnksndlsndknskdnskndksndkdnsskdnsk\\njddksndks\\n\\n'"
      ]
     },
     "execution_count": 24,
     "metadata": {},
     "output_type": "execute_result"
    }
   ],
   "source": [
    "f3.read()"
   ]
  },
  {
   "cell_type": "code",
   "execution_count": 26,
   "metadata": {},
   "outputs": [
    {
     "data": {
      "text/plain": [
       "'this Is new data\\n'"
      ]
     },
     "execution_count": 26,
     "metadata": {},
     "output_type": "execute_result"
    }
   ],
   "source": [
    "f3.readline()"
   ]
  },
  {
   "cell_type": "code",
   "execution_count": 27,
   "metadata": {},
   "outputs": [
    {
     "data": {
      "text/plain": [
       "['dhd\\n',\n",
       " '\\n',\n",
       " 'ssnskd\\n',\n",
       " 'skdnsndksn\\n',\n",
       " 'nsdnksndlsndknskdnskndksndkdnsskdnsk\\n',\n",
       " 'jddksndks\\n',\n",
       " '\\n']"
      ]
     },
     "execution_count": 27,
     "metadata": {},
     "output_type": "execute_result"
    }
   ],
   "source": [
    "f3.readlines()"
   ]
  },
  {
   "cell_type": "code",
   "execution_count": 31,
   "metadata": {},
   "outputs": [
    {
     "name": "stdout",
     "output_type": "stream",
     "text": [
      "this Is new data\n",
      " dhd\n",
      " \n",
      " ssnskd\n",
      " skdnsndksn\n",
      " nsdnksndlsndknskdnskndksndkdnsskdnsk\n",
      " jddksndks\n",
      " \n",
      " this Is new data\n",
      " dhd\n",
      " \n",
      " ssnskd\n",
      " skdnsndksn\n",
      " nsdnksndlsndknskdnskndksndkdnsskdnsk\n",
      " jddksndks\n",
      " \n",
      " this Is new data\n",
      " dhd\n",
      " \n",
      " ssnskd\n",
      " skdnsndksn\n",
      " nsdnksndlsndknskdnskndksndkdnsskdnsk\n",
      " jddksndks\n",
      " \n",
      " this Is new data\n",
      " dhd\n",
      " \n",
      " ssnskd\n",
      " skdnsndksn\n",
      " nsdnksndlsndknskdnskndksndkdnsskdnsk\n",
      " jddksndks\n",
      " \n",
      " this Is new data\n",
      " dhd\n",
      " \n",
      " ssnskd\n",
      " skdnsndksn\n",
      " nsdnksndlsndknskdnskndksndkdnsskdnsk\n",
      " jddksndks\n",
      " \n",
      " this Is new data\n",
      " dhd\n",
      " \n",
      " ssnskd\n",
      " skdnsndksn\n",
      " nsdnksndlsndknskdnskndksndkdnsskdnsk\n",
      " jddksndks\n",
      " \n",
      " "
     ]
    }
   ],
   "source": [
    "for line in f3:\n",
    "    print(line, end=\" \")"
   ]
  },
  {
   "cell_type": "code",
   "execution_count": 36,
   "metadata": {},
   "outputs": [],
   "source": [
    "fl= open(\"demo.txt\",\"r+\")"
   ]
  },
  {
   "cell_type": "code",
   "execution_count": 38,
   "metadata": {},
   "outputs": [
    {
     "data": {
      "text/plain": [
       "13"
      ]
     },
     "execution_count": 38,
     "metadata": {},
     "output_type": "execute_result"
    }
   ],
   "source": [
    "fl.write(\"new Data96969\")"
   ]
  },
  {
   "cell_type": "code",
   "execution_count": 39,
   "metadata": {},
   "outputs": [],
   "source": [
    "fl.close()"
   ]
  },
  {
   "cell_type": "code",
   "execution_count": 40,
   "metadata": {},
   "outputs": [
    {
     "ename": "ValueError",
     "evalue": "I/O operation on closed file.",
     "output_type": "error",
     "traceback": [
      "\u001b[1;31m---------------------------------------------------------------------------\u001b[0m",
      "\u001b[1;31mValueError\u001b[0m                                Traceback (most recent call last)",
      "Cell \u001b[1;32mIn[40], line 1\u001b[0m\n\u001b[1;32m----> 1\u001b[0m fl\u001b[39m.\u001b[39;49mtell()\n",
      "\u001b[1;31mValueError\u001b[0m: I/O operation on closed file."
     ]
    }
   ],
   "source": [
    "fl.tell()"
   ]
  },
  {
   "cell_type": "code",
   "execution_count": 42,
   "metadata": {},
   "outputs": [],
   "source": [
    "# writring data from list in to a file\n",
    "\n",
    "f= open(\"data.txt\",\"r+\")\n",
    "\n",
    "l=[\"list of first line\",' 2nd line data',\"3rd line data\"]\n",
    "\n",
    "f.writelines(l)\n",
    "f.close()\n"
   ]
  },
  {
   "cell_type": "code",
   "execution_count": 43,
   "metadata": {},
   "outputs": [],
   "source": [
    "import os"
   ]
  },
  {
   "cell_type": "code",
   "execution_count": 45,
   "metadata": {},
   "outputs": [
    {
     "data": {
      "text/plain": [
       "'d:\\\\EDI Mapping In Python\\\\Learning\\\\Iterable and File System'"
      ]
     },
     "execution_count": 45,
     "metadata": {},
     "output_type": "execute_result"
    }
   ],
   "source": [
    "os.getcwd() # retun current working directory"
   ]
  },
  {
   "cell_type": "code",
   "execution_count": 47,
   "metadata": {},
   "outputs": [],
   "source": [
    "ls=os.listdir()"
   ]
  },
  {
   "cell_type": "code",
   "execution_count": 48,
   "metadata": {},
   "outputs": [
    {
     "data": {
      "text/plain": [
       "['data.txt',\n",
       " 'demo.txt',\n",
       " 'demo2.txt',\n",
       " 'fileManupulation.ipynb',\n",
       " 'iterable.ipynb']"
      ]
     },
     "execution_count": 48,
     "metadata": {},
     "output_type": "execute_result"
    }
   ],
   "source": [
    "ls"
   ]
  },
  {
   "cell_type": "code",
   "execution_count": 57,
   "metadata": {},
   "outputs": [],
   "source": [
    "newLs=[]\n",
    "for x in ls :\n",
    "    if x.endswith(\".txt\"):\n",
    "        newLs.append(x)"
   ]
  },
  {
   "cell_type": "code",
   "execution_count": 58,
   "metadata": {},
   "outputs": [
    {
     "data": {
      "text/plain": [
       "['data.txt', 'demo.txt', 'demo2.txt']"
      ]
     },
     "execution_count": 58,
     "metadata": {},
     "output_type": "execute_result"
    }
   ],
   "source": [
    "newLs"
   ]
  },
  {
   "cell_type": "code",
   "execution_count": 59,
   "metadata": {},
   "outputs": [
    {
     "name": "stdout",
     "output_type": "stream",
     "text": [
      "data.txt\n",
      "demo.txt\n",
      "demo2.txt\n"
     ]
    }
   ],
   "source": [
    "for x in newLs:\n",
    "    print(x)"
   ]
  },
  {
   "cell_type": "code",
   "execution_count": null,
   "metadata": {},
   "outputs": [],
   "source": []
  }
 ],
 "metadata": {
  "kernelspec": {
   "display_name": "Python 3",
   "language": "python",
   "name": "python3"
  },
  "language_info": {
   "codemirror_mode": {
    "name": "ipython",
    "version": 3
   },
   "file_extension": ".py",
   "mimetype": "text/x-python",
   "name": "python",
   "nbconvert_exporter": "python",
   "pygments_lexer": "ipython3",
   "version": "3.11.4"
  },
  "orig_nbformat": 4
 },
 "nbformat": 4,
 "nbformat_minor": 2
}
