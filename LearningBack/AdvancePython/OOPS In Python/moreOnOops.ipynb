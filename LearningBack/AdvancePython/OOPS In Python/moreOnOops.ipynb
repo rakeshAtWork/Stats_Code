{
 "cells": [
  {
   "cell_type": "code",
   "execution_count": 10,
   "metadata": {},
   "outputs": [],
   "source": [
    "class Test:\n",
    "    \n",
    "    def method1(self):\n",
    "        print(\"This is my method 1\")\n",
    "\n",
    "    @staticmethod\n",
    "    def method2():  # here no pointer is used.\n",
    "        print(\"I am static method\")\n",
    "        print(\"Can be call without object creation\")\n",
    "    "
   ]
  },
  {
   "cell_type": "code",
   "execution_count": 2,
   "metadata": {},
   "outputs": [],
   "source": [
    "t= Test()"
   ]
  },
  {
   "cell_type": "code",
   "execution_count": 3,
   "metadata": {},
   "outputs": [
    {
     "name": "stdout",
     "output_type": "stream",
     "text": [
      "This is my method 1\n"
     ]
    }
   ],
   "source": [
    "t.method1()"
   ]
  },
  {
   "cell_type": "code",
   "execution_count": 8,
   "metadata": {},
   "outputs": [
    {
     "name": "stdout",
     "output_type": "stream",
     "text": [
      "I am static method\n",
      "Can be call without object creation\n"
     ]
    }
   ],
   "source": [
    "Test.method2() # static method called"
   ]
  },
  {
   "cell_type": "code",
   "execution_count": 14,
   "metadata": {},
   "outputs": [
    {
     "ename": "TypeError",
     "evalue": "Test.method1() missing 1 required positional argument: 'self'",
     "output_type": "error",
     "traceback": [
      "\u001b[1;31m---------------------------------------------------------------------------\u001b[0m",
      "\u001b[1;31mTypeError\u001b[0m                                 Traceback (most recent call last)",
      "Cell \u001b[1;32mIn[14], line 1\u001b[0m\n\u001b[1;32m----> 1\u001b[0m Test\u001b[39m.\u001b[39;49mmethod1()\u001b[39m# will gives error beacus its not a static method.\u001b[39;00m\n",
      "\u001b[1;31mTypeError\u001b[0m: Test.method1() missing 1 required positional argument: 'self'"
     ]
    }
   ],
   "source": [
    "Test.method1()# will gives error beacus its not a static method."
   ]
  },
  {
   "cell_type": "code",
   "execution_count": 17,
   "metadata": {},
   "outputs": [
    {
     "name": "stdout",
     "output_type": "stream",
     "text": [
      "I am static method\n",
      "Can be call without object creation\n"
     ]
    }
   ],
   "source": [
    "Test.method2()"
   ]
  },
  {
   "cell_type": "code",
   "execution_count": null,
   "metadata": {},
   "outputs": [],
   "source": []
  }
 ],
 "metadata": {
  "kernelspec": {
   "display_name": "Python 3",
   "language": "python",
   "name": "python3"
  },
  "language_info": {
   "codemirror_mode": {
    "name": "ipython",
    "version": 3
   },
   "file_extension": ".py",
   "mimetype": "text/x-python",
   "name": "python",
   "nbconvert_exporter": "python",
   "pygments_lexer": "ipython3",
   "version": "3.11.4"
  },
  "orig_nbformat": 4
 },
 "nbformat": 4,
 "nbformat_minor": 2
}
