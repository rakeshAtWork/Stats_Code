{
 "cells": [
  {
   "cell_type": "code",
   "execution_count": 1,
   "metadata": {},
   "outputs": [
    {
     "data": {
      "text/plain": [
       "'\\n1 Single Inheritence\\n2 Multiple Inheritence\\n3 MultiLevel Inheritence\\n4 Hybrid Inheritence\\n5 Hirarichal Inheritence\\n\\n'"
      ]
     },
     "execution_count": 1,
     "metadata": {},
     "output_type": "execute_result"
    }
   ],
   "source": [
    "# Types of Inheritence:\n",
    "\n",
    "\"\"\"\n",
    "1 Single Inheritence\n",
    "2 Multiple Inheritence\n",
    "3 MultiLevel Inheritence\n",
    "4 Hybrid Inheritence\n",
    "5 Hirarichal Inheritence\n",
    "\n",
    "\"\"\""
   ]
  },
  {
   "cell_type": "code",
   "execution_count": 2,
   "metadata": {},
   "outputs": [],
   "source": [
    "# Multiple Inheritence"
   ]
  },
  {
   "cell_type": "code",
   "execution_count": 29,
   "metadata": {},
   "outputs": [],
   "source": [
    "class Parent1:\n",
    "    def __init__(self) -> None:\n",
    "        self.name=None\n",
    "    def test(self):\n",
    "        print(\"1st parenet\")"
   ]
  },
  {
   "cell_type": "code",
   "execution_count": 30,
   "metadata": {},
   "outputs": [],
   "source": [
    "class Parent2:\n",
    "    def __init__(self) -> None:\n",
    "        self.name=None\n",
    "    def test(self):\n",
    "        print(\"2nd Parenet\")"
   ]
  },
  {
   "cell_type": "code",
   "execution_count": 35,
   "metadata": {},
   "outputs": [],
   "source": [
    "class Child(Parent2,Parent1):\n",
    "    def test3(self):\n",
    "        print(\"Child class which having the functionality of parent one and parent 2\")"
   ]
  },
  {
   "cell_type": "code",
   "execution_count": 36,
   "metadata": {},
   "outputs": [],
   "source": [
    "c1= Child()"
   ]
  },
  {
   "cell_type": "code",
   "execution_count": 37,
   "metadata": {},
   "outputs": [
    {
     "name": "stdout",
     "output_type": "stream",
     "text": [
      "2nd Parenet\n",
      "2nd Parenet\n",
      "Child class which having the functionality of parent one and parent 2\n"
     ]
    }
   ],
   "source": [
    "c1.test()\n",
    "c1.test()\n",
    "c1.test3()"
   ]
  },
  {
   "cell_type": "code",
   "execution_count": 26,
   "metadata": {},
   "outputs": [],
   "source": [
    "class Child1(Parent1,Parent2):\n",
    "    def __init__(self) -> None:\n",
    "        super().__init__()\n",
    "    def show(self):\n",
    "        print(\"My name is Child 1 Class\")"
   ]
  },
  {
   "cell_type": "code",
   "execution_count": 27,
   "metadata": {},
   "outputs": [],
   "source": [
    "ch1=Child1()"
   ]
  },
  {
   "cell_type": "code",
   "execution_count": 28,
   "metadata": {},
   "outputs": [
    {
     "name": "stdout",
     "output_type": "stream",
     "text": [
      "My name is Child 1 Class\n"
     ]
    }
   ],
   "source": [
    "ch1.show()"
   ]
  },
  {
   "cell_type": "code",
   "execution_count": 1,
   "metadata": {},
   "outputs": [
    {
     "data": {
      "text/plain": [
       "'\\n                a\\n            /   |    \\\\  \\n            B   |     D\\n            \\\\   |    /\\n                f\\n\\n\\n'"
      ]
     },
     "execution_count": 1,
     "metadata": {},
     "output_type": "execute_result"
    }
   ],
   "source": [
    "# Hirarichical Inheritence : Inherit multiple child class from one parent class.\n",
    "\n",
    "# Hybrid Inheritence: Combination of all types of Inheritence\n",
    "\n",
    "'''\n",
    "                a\n",
    "            /   |    \\  \n",
    "            B   |     D\n",
    "            \\   |    /\n",
    "                f\n",
    "\n",
    "\n",
    "'''"
   ]
  },
  {
   "cell_type": "code",
   "execution_count": null,
   "metadata": {},
   "outputs": [],
   "source": [
    "# SUPER() method to ascess the method of immidiate parent class.\n",
    "\n"
   ]
  }
 ],
 "metadata": {
  "kernelspec": {
   "display_name": "Python 3",
   "language": "python",
   "name": "python3"
  },
  "language_info": {
   "codemirror_mode": {
    "name": "ipython",
    "version": 3
   },
   "file_extension": ".py",
   "mimetype": "text/x-python",
   "name": "python",
   "nbconvert_exporter": "python",
   "pygments_lexer": "ipython3",
   "version": "3.11.4"
  },
  "orig_nbformat": 4
 },
 "nbformat": 4,
 "nbformat_minor": 2
}
