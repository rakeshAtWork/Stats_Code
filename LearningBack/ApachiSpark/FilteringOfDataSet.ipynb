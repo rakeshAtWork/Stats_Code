{
 "cells": [
  {
   "cell_type": "code",
   "execution_count": 1,
   "metadata": {},
   "outputs": [],
   "source": [
    "from pyspark.sql import SparkSession\n",
    "spark= SparkSession.builder.appName(\"Practice2\").getOrCreate()"
   ]
  },
  {
   "cell_type": "code",
   "execution_count": 2,
   "metadata": {},
   "outputs": [],
   "source": [
    "df_spark= spark.read.csv('test1.csv',header=True,inferSchema=True)"
   ]
  },
  {
   "cell_type": "code",
   "execution_count": 3,
   "metadata": {},
   "outputs": [
    {
     "name": "stdout",
     "output_type": "stream",
     "text": [
      "+------+----+----+------+\n",
      "|  Name| Age| Exp|Salary|\n",
      "+------+----+----+------+\n",
      "|  Ramu|  31|  10| 40000|\n",
      "|Rakesh|  85|   9| 36000|\n",
      "| Rihan|  36|   8| 72000|\n",
      "|  Dewa|  35|   1| 52000|\n",
      "|  Bumi|  39|   2| 20000|\n",
      "|Suhani|  32|   5| 25000|\n",
      "| Sonam|null|null| 40000|\n",
      "|  null|  23|  10| 38000|\n",
      "|  null|  36|null|  null|\n",
      "+------+----+----+------+\n",
      "\n"
     ]
    }
   ],
   "source": [
    "df_spark.show()"
   ]
  },
  {
   "cell_type": "code",
   "execution_count": 4,
   "metadata": {},
   "outputs": [
    {
     "name": "stdout",
     "output_type": "stream",
     "text": [
      "+------+----+------+\n",
      "|  Name| Exp|Salary|\n",
      "+------+----+------+\n",
      "|  Ramu|  10| 40000|\n",
      "|Rakesh|   9| 36000|\n",
      "| Rihan|   8| 72000|\n",
      "|  Dewa|   1| 52000|\n",
      "|  Bumi|   2| 20000|\n",
      "|Suhani|   5| 25000|\n",
      "| Sonam|null| 40000|\n",
      "|  null|  10| 38000|\n",
      "|  null|null|  null|\n",
      "+------+----+------+\n",
      "\n"
     ]
    }
   ],
   "source": [
    "# dropping the column\n",
    "\n",
    "df_spark.drop('Age').show()\n",
    "# we have to"
   ]
  },
  {
   "cell_type": "code",
   "execution_count": 5,
   "metadata": {},
   "outputs": [
    {
     "name": "stdout",
     "output_type": "stream",
     "text": [
      "+------+---+---+------+\n",
      "|  Name|Age|Exp|Salary|\n",
      "+------+---+---+------+\n",
      "|  Ramu| 31| 10| 40000|\n",
      "|Rakesh| 85|  9| 36000|\n",
      "| Rihan| 36|  8| 72000|\n",
      "|  Dewa| 35|  1| 52000|\n",
      "|  Bumi| 39|  2| 20000|\n",
      "|Suhani| 32|  5| 25000|\n",
      "+------+---+---+------+\n",
      "\n"
     ]
    }
   ],
   "source": [
    "# here all the records which having null value gust get drop\n",
    "\n",
    "df_spark.na.drop().show()"
   ]
  },
  {
   "cell_type": "code",
   "execution_count": 6,
   "metadata": {},
   "outputs": [
    {
     "name": "stdout",
     "output_type": "stream",
     "text": [
      "+------+---+---+------+\n",
      "|  Name|Age|Exp|Salary|\n",
      "+------+---+---+------+\n",
      "|  Ramu| 31| 10| 40000|\n",
      "|Rakesh| 85|  9| 36000|\n",
      "| Rihan| 36|  8| 72000|\n",
      "|  Dewa| 35|  1| 52000|\n",
      "|  Bumi| 39|  2| 20000|\n",
      "|Suhani| 32|  5| 25000|\n",
      "+------+---+---+------+\n",
      "\n"
     ]
    }
   ],
   "source": [
    "# how = \"any\"\n",
    "\n",
    "df_spark.na.drop(how=\"any\").show()"
   ]
  },
  {
   "cell_type": "code",
   "execution_count": 7,
   "metadata": {},
   "outputs": [
    {
     "name": "stdout",
     "output_type": "stream",
     "text": [
      "+------+----+----+------+\n",
      "|  Name| Age| Exp|Salary|\n",
      "+------+----+----+------+\n",
      "|  Ramu|  31|  10| 40000|\n",
      "|Rakesh|  85|   9| 36000|\n",
      "| Rihan|  36|   8| 72000|\n",
      "|  Dewa|  35|   1| 52000|\n",
      "|  Bumi|  39|   2| 20000|\n",
      "|Suhani|  32|   5| 25000|\n",
      "| Sonam|null|null| 40000|\n",
      "|  null|  23|  10| 38000|\n",
      "+------+----+----+------+\n",
      "\n"
     ]
    }
   ],
   "source": [
    "# thresh=someNumber\n",
    "\n",
    "df_spark.na.drop(how=\"any\",thresh=2).show()\n",
    "# threshold decide at least threshold creteria hold\n"
   ]
  },
  {
   "cell_type": "code",
   "execution_count": 8,
   "metadata": {},
   "outputs": [
    {
     "name": "stdout",
     "output_type": "stream",
     "text": [
      "+------+---+---+------+\n",
      "|  Name|Age|Exp|Salary|\n",
      "+------+---+---+------+\n",
      "|  Ramu| 31| 10| 40000|\n",
      "|Rakesh| 85|  9| 36000|\n",
      "| Rihan| 36|  8| 72000|\n",
      "|  Dewa| 35|  1| 52000|\n",
      "|  Bumi| 39|  2| 20000|\n",
      "|Suhani| 32|  5| 25000|\n",
      "|  null| 23| 10| 38000|\n",
      "+------+---+---+------+\n",
      "\n"
     ]
    }
   ],
   "source": [
    "# subset\n",
    "df_spark.na.drop(how=\"any\",subset=['Exp']).show()"
   ]
  },
  {
   "cell_type": "code",
   "execution_count": 9,
   "metadata": {},
   "outputs": [
    {
     "data": {
      "text/plain": [
       "pyspark.sql.dataframe.DataFrame"
      ]
     },
     "execution_count": 9,
     "metadata": {},
     "output_type": "execute_result"
    }
   ],
   "source": [
    "type(df_spark)"
   ]
  },
  {
   "cell_type": "code",
   "execution_count": 10,
   "metadata": {},
   "outputs": [
    {
     "name": "stdout",
     "output_type": "stream",
     "text": [
      "+------+----+---+------+\n",
      "|  Name| Age|Exp|Salary|\n",
      "+------+----+---+------+\n",
      "|  Ramu|  31| 10| 40000|\n",
      "|Rakesh|  85|  9| 36000|\n",
      "| Rihan|  36|  8| 72000|\n",
      "|  Dewa|  35|  1| 52000|\n",
      "|  Bumi|  39|  2| 20000|\n",
      "|Suhani|  32|  5| 25000|\n",
      "| Sonam|null|404| 40000|\n",
      "|  null|  23| 10| 38000|\n",
      "|  null|  36|404|  null|\n",
      "+------+----+---+------+\n",
      "\n"
     ]
    }
   ],
   "source": [
    "# filling the missing value\n",
    "\n",
    "df_spark.na.fill(404,['Exp']).show()\n",
    "\n",
    "# its depend up on data type.\n"
   ]
  },
  {
   "cell_type": "code",
   "execution_count": 11,
   "metadata": {},
   "outputs": [],
   "source": [
    "# Imputer function to depict the missing value with mean, median and mode\n",
    "\n",
    "from pyspark.ml.feature import Imputer\n",
    "imputer=Imputer(inputCols=['Age','Exp','Salary'],\n",
    "                outputCols=[\"{}_imputed\".format(c) for c in ['Age',\"Exp\",\"Salary\"]]).setStrategy(\"mean\")"
   ]
  },
  {
   "cell_type": "code",
   "execution_count": 12,
   "metadata": {},
   "outputs": [
    {
     "name": "stdout",
     "output_type": "stream",
     "text": [
      "+------+----+----+------+-----------+-----------+--------------+\n",
      "|  Name| Age| Exp|Salary|Age_imputed|Exp_imputed|Salary_imputed|\n",
      "+------+----+----+------+-----------+-----------+--------------+\n",
      "|  Ramu|  31|  10| 40000|         31|         10|         40000|\n",
      "|Rakesh|  85|   9| 36000|         85|          9|         36000|\n",
      "| Rihan|  36|   8| 72000|         36|          8|         72000|\n",
      "|  Dewa|  35|   1| 52000|         35|          1|         52000|\n",
      "|  Bumi|  39|   2| 20000|         39|          2|         20000|\n",
      "|Suhani|  32|   5| 25000|         32|          5|         25000|\n",
      "| Sonam|null|null| 40000|         39|          6|         40000|\n",
      "|  null|  23|  10| 38000|         23|         10|         38000|\n",
      "|  null|  36|null|  null|         36|          6|         40375|\n",
      "+------+----+----+------+-----------+-----------+--------------+\n",
      "\n"
     ]
    }
   ],
   "source": [
    "#  add imputer colum in data frames\n",
    "\n",
    "imputer.fit(df_spark).transform(df_spark).show()"
   ]
  },
  {
   "cell_type": "code",
   "execution_count": 5,
   "metadata": {},
   "outputs": [
    {
     "ename": "SyntaxError",
     "evalue": "invalid syntax (3987822557.py, line 1)",
     "output_type": "error",
     "traceback": [
      "\u001b[1;36m  Cell \u001b[1;32mIn[5], line 1\u001b[1;36m\u001b[0m\n\u001b[1;33m    df_spark.show(?)\u001b[0m\n\u001b[1;37m                  ^\u001b[0m\n\u001b[1;31mSyntaxError\u001b[0m\u001b[1;31m:\u001b[0m invalid syntax\n"
     ]
    }
   ],
   "source": [
    "df_spark.show()"
   ]
  },
  {
   "cell_type": "code",
   "execution_count": 1,
   "metadata": {},
   "outputs": [],
   "source": [
    "a=20"
   ]
  },
  {
   "cell_type": "code",
   "execution_count": 2,
   "metadata": {},
   "outputs": [
    {
     "name": "stdout",
     "output_type": "stream",
     "text": [
      "\u001b[1;31mType:\u001b[0m        int\n",
      "\u001b[1;31mString form:\u001b[0m 20\n",
      "\u001b[1;31mDocstring:\u001b[0m  \n",
      "int([x]) -> integer\n",
      "int(x, base=10) -> integer\n",
      "\n",
      "Convert a number or string to an integer, or return 0 if no arguments\n",
      "are given.  If x is a number, return x.__int__().  For floating point\n",
      "numbers, this truncates towards zero.\n",
      "\n",
      "If x is not a number or if base is given, then x must be a string,\n",
      "bytes, or bytearray instance representing an integer literal in the\n",
      "given base.  The literal can be preceded by '+' or '-' and be surrounded\n",
      "by whitespace.  The base defaults to 10.  Valid bases are 0 and 2-36.\n",
      "Base 0 means to interpret the base from the string as an integer literal.\n",
      ">>> int('0b100', base=0)\n",
      "4"
     ]
    }
   ],
   "source": [
    "a?\n"
   ]
  },
  {
   "cell_type": "code",
   "execution_count": null,
   "metadata": {},
   "outputs": [],
   "source": []
  }
 ],
 "metadata": {
  "kernelspec": {
   "display_name": "Python 3",
   "language": "python",
   "name": "python3"
  },
  "language_info": {
   "codemirror_mode": {
    "name": "ipython",
    "version": 3
   },
   "file_extension": ".py",
   "mimetype": "text/x-python",
   "name": "python",
   "nbconvert_exporter": "python",
   "pygments_lexer": "ipython3",
   "version": "3.11.4"
  },
  "orig_nbformat": 4
 },
 "nbformat": 4,
 "nbformat_minor": 2
}
