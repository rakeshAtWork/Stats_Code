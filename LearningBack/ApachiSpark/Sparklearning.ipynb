{
 "cells": [
  {
   "cell_type": "code",
   "execution_count": 1,
   "id": "74db15f0-6076-4aa1-959a-070065ae44cc",
   "metadata": {},
   "outputs": [],
   "source": [
    "import pyspark"
   ]
  },
  {
   "cell_type": "code",
   "execution_count": 2,
   "id": "c735b83d-4793-416e-8f73-b6afc250d248",
   "metadata": {},
   "outputs": [],
   "source": [
    "import pandas as pd"
   ]
  },
  {
   "cell_type": "code",
   "execution_count": 3,
   "id": "0715d801-54a6-405d-8c63-d153a7145d36",
   "metadata": {},
   "outputs": [
    {
     "data": {
      "text/html": [
       "<div>\n",
       "<style scoped>\n",
       "    .dataframe tbody tr th:only-of-type {\n",
       "        vertical-align: middle;\n",
       "    }\n",
       "\n",
       "    .dataframe tbody tr th {\n",
       "        vertical-align: top;\n",
       "    }\n",
       "\n",
       "    .dataframe thead th {\n",
       "        text-align: right;\n",
       "    }\n",
       "</style>\n",
       "<table border=\"1\" class=\"dataframe\">\n",
       "  <thead>\n",
       "    <tr style=\"text-align: right;\">\n",
       "      <th></th>\n",
       "      <th>Name\\tAge \\tExperience</th>\n",
       "    </tr>\n",
       "  </thead>\n",
       "  <tbody>\n",
       "    <tr>\n",
       "      <th>0</th>\n",
       "      <td>Rakesh\\t24\\t5</td>\n",
       "    </tr>\n",
       "    <tr>\n",
       "      <th>1</th>\n",
       "      <td>Abhishek\\t20\\t2</td>\n",
       "    </tr>\n",
       "    <tr>\n",
       "      <th>2</th>\n",
       "      <td>Dharmesh\\t35\\t10</td>\n",
       "    </tr>\n",
       "  </tbody>\n",
       "</table>\n",
       "</div>"
      ],
      "text/plain": [
       "  Name\\tAge \\tExperience\n",
       "0          Rakesh\\t24\\t5\n",
       "1        Abhishek\\t20\\t2\n",
       "2       Dharmesh\\t35\\t10"
      ]
     },
     "execution_count": 3,
     "metadata": {},
     "output_type": "execute_result"
    }
   ],
   "source": [
    "pd.read_csv(\"D:\\\\EDI Mapping In Python\\\\Learning\\\\ApachiSpark\\\\Data\\\\Book2.csv\")"
   ]
  },
  {
   "cell_type": "code",
   "execution_count": 4,
   "id": "76c79227-6c3e-44d4-9fbd-5c282d7755d6",
   "metadata": {},
   "outputs": [],
   "source": [
    "# we need to make a session for pyspark in order to use it \n",
    "from pyspark.sql import SparkSession\n"
   ]
  },
  {
   "cell_type": "code",
   "execution_count": 5,
   "id": "16ec2c56-7c5e-424b-b436-30587d287fbd",
   "metadata": {},
   "outputs": [],
   "source": [
    "spark= SparkSession.builder.appName(\"DemoLaunching\").getOrCreate()"
   ]
  },
  {
   "cell_type": "code",
   "execution_count": 6,
   "id": "dffde9b3-db2a-40de-ae53-ba49099b4c52",
   "metadata": {},
   "outputs": [
    {
     "data": {
      "text/html": [
       "\n",
       "            <div>\n",
       "                <p><b>SparkSession - in-memory</b></p>\n",
       "                \n",
       "        <div>\n",
       "            <p><b>SparkContext</b></p>\n",
       "\n",
       "            <p><a href=\"http://LTCZ0234.cztech.com:4040\">Spark UI</a></p>\n",
       "\n",
       "            <dl>\n",
       "              <dt>Version</dt>\n",
       "                <dd><code>v3.4.1</code></dd>\n",
       "              <dt>Master</dt>\n",
       "                <dd><code>local[*]</code></dd>\n",
       "              <dt>AppName</dt>\n",
       "                <dd><code>DemoLaunching</code></dd>\n",
       "            </dl>\n",
       "        </div>\n",
       "        \n",
       "            </div>\n",
       "        "
      ],
      "text/plain": [
       "<pyspark.sql.session.SparkSession at 0x2ce960a03d0>"
      ]
     },
     "execution_count": 6,
     "metadata": {},
     "output_type": "execute_result"
    }
   ],
   "source": [
    "spark"
   ]
  },
  {
   "cell_type": "code",
   "execution_count": 7,
   "id": "4609266f-10ff-4148-9c03-e741cafd0926",
   "metadata": {},
   "outputs": [],
   "source": [
    "# reading the data from spark \n",
    "df_pyspark=spark.read.csv(\"D:\\\\EDI Mapping In Python\\\\Learning\\\\ApachiSpark\\\\Data\\\\Book2.csv\")"
   ]
  },
  {
   "cell_type": "code",
   "execution_count": 8,
   "id": "765e2391-b16e-473c-b18d-fd85a94cb662",
   "metadata": {},
   "outputs": [
    {
     "name": "stdout",
     "output_type": "stream",
     "text": [
      "+--------------------+\n",
      "|                 _c0|\n",
      "+--------------------+\n",
      "|Name\\tAge \\tExper...|\n",
      "|       Rakesh\\t24\\t5|\n",
      "|     Abhishek\\t20\\t2|\n",
      "|    Dharmesh\\t35\\t10|\n",
      "+--------------------+\n",
      "\n"
     ]
    }
   ],
   "source": [
    "df_pyspark.show()"
   ]
  },
  {
   "cell_type": "code",
   "execution_count": 9,
   "id": "4ec6a9db-6b85-40c0-9b52-85abd8a75054",
   "metadata": {},
   "outputs": [
    {
     "name": "stdout",
     "output_type": "stream",
     "text": [
      "Type <class 'pyspark.sql.dataframe.DataFrame'>\n",
      "+----------------------+\n",
      "|Name\\tAge \\tExperience|\n",
      "+----------------------+\n",
      "|         Rakesh\\t24\\t5|\n",
      "|       Abhishek\\t20\\t2|\n",
      "|      Dharmesh\\t35\\t10|\n",
      "+----------------------+\n",
      "\n"
     ]
    }
   ],
   "source": [
    "# set column Header (here again we are reading the data set includeing header)\n",
    "\n",
    "df_pyspark1=spark.read.option('header','true').csv(\"D:\\\\EDI Mapping In Python\\\\Learning\\\\ApachiSpark\\\\Data\\\\Book2.csv\")\n",
    "print(\"Type\",type(df_pyspark1))\n",
    "\n",
    "df_pyspark1.show()"
   ]
  },
  {
   "cell_type": "code",
   "execution_count": 10,
   "id": "92f64489-9b6c-4015-95b0-e1e4860496db",
   "metadata": {},
   "outputs": [
    {
     "data": {
      "text/plain": [
       "pyspark.sql.dataframe.DataFrame"
      ]
     },
     "execution_count": 10,
     "metadata": {},
     "output_type": "execute_result"
    }
   ],
   "source": [
    "type(df_pyspark1)"
   ]
  },
  {
   "cell_type": "code",
   "execution_count": 11,
   "id": "9c2c41ad-27c5-4011-8916-8900f3fb914a",
   "metadata": {},
   "outputs": [
    {
     "data": {
      "text/plain": [
       "[Row(Name\tAge \tExperience='Rakesh\\t24\\t5'),\n",
       " Row(Name\tAge \tExperience='Abhishek\\t20\\t2'),\n",
       " Row(Name\tAge \tExperience='Dharmesh\\t35\\t10')]"
      ]
     },
     "execution_count": 11,
     "metadata": {},
     "output_type": "execute_result"
    }
   ],
   "source": [
    "df_pyspark1.head(3)"
   ]
  },
  {
   "cell_type": "code",
   "execution_count": 12,
   "id": "65c71937-4ab9-40ff-a0a5-a96243635847",
   "metadata": {},
   "outputs": [
    {
     "name": "stdout",
     "output_type": "stream",
     "text": [
      "root\n",
      " |-- Name\\tAge \\tExperience: string (nullable = true)\n",
      "\n"
     ]
    }
   ],
   "source": [
    "df_pyspark1.printSchema()"
   ]
  },
  {
   "cell_type": "code",
   "execution_count": 13,
   "id": "8ec336cb-36cf-4dba-9dab-22dcfb42c001",
   "metadata": {},
   "outputs": [],
   "source": [
    "# main objective of This Pyspark Series:\n",
    "# pyspark Dataframe\n",
    "# reading the data set\n",
    "# checking the datatype of the column\n",
    "# selecting columns and indexing\n",
    "# check describe option similar to pandas\n",
    "# adding columns\n",
    "# dropping columns\n",
    "\n"
   ]
  },
  {
   "cell_type": "code",
   "execution_count": 14,
   "id": "2e960116-b3a4-4fcf-90b5-5977f54971da",
   "metadata": {},
   "outputs": [],
   "source": [
    "df_spark= spark.read.option('header','true').csv(\"D:\\\\EDI Mapping In Python\\\\Learning\\\\ApachiSpark\\\\Data\\\\Book1.csv\",inferSchema=True)\n"
   ]
  },
  {
   "cell_type": "code",
   "execution_count": 15,
   "id": "4c5b19d9-b782-43fb-b360-30e7bd52b6ba",
   "metadata": {},
   "outputs": [
    {
     "name": "stdout",
     "output_type": "stream",
     "text": [
      "+--------+----+----------+\n",
      "|    Name|Age |Experience|\n",
      "+--------+----+----------+\n",
      "|  Rakesh|  24|         5|\n",
      "|Abhishek|  20|         5|\n",
      "|Dharmesh|  35|         2|\n",
      "+--------+----+----------+\n",
      "\n"
     ]
    }
   ],
   "source": [
    "df_spark.show()"
   ]
  },
  {
   "cell_type": "code",
   "execution_count": 16,
   "id": "607bf05b-1880-4a27-bdf0-71e3cdebc52d",
   "metadata": {},
   "outputs": [
    {
     "name": "stdout",
     "output_type": "stream",
     "text": [
      "root\n",
      " |-- Name: string (nullable = true)\n",
      " |-- Age : integer (nullable = true)\n",
      " |-- Experience: integer (nullable = true)\n",
      "\n"
     ]
    }
   ],
   "source": [
    "# check Schema of data set\n",
    "df_spark.printSchema() "
   ]
  },
  {
   "cell_type": "code",
   "execution_count": 17,
   "id": "91c5f228-3f7a-4847-b5ba-e106f0c32651",
   "metadata": {},
   "outputs": [
    {
     "data": {
      "text/plain": [
       "['Name', 'Age ', 'Experience']"
      ]
     },
     "execution_count": 17,
     "metadata": {},
     "output_type": "execute_result"
    }
   ],
   "source": [
    "# all column names\n",
    "df_spark.columns\n"
   ]
  },
  {
   "cell_type": "code",
   "execution_count": 18,
   "id": "fb785dfe-5355-46da-8911-fd8e723458ac",
   "metadata": {},
   "outputs": [
    {
     "name": "stdout",
     "output_type": "stream",
     "text": [
      "+--------+\n",
      "|    Name|\n",
      "+--------+\n",
      "|  Rakesh|\n",
      "|Abhishek|\n",
      "|Dharmesh|\n",
      "+--------+\n",
      "\n"
     ]
    }
   ],
   "source": [
    "# select one column\n",
    "df_spark.select('Name').show()\n",
    "\n",
    "# it is a dataframe of pyspark\n"
   ]
  },
  {
   "cell_type": "code",
   "execution_count": 19,
   "id": "f0b538db-b7f3-4c99-bd84-b391dc7760eb",
   "metadata": {},
   "outputs": [
    {
     "name": "stdout",
     "output_type": "stream",
     "text": [
      "+--------+----+\n",
      "|    Name|Age |\n",
      "+--------+----+\n",
      "|  Rakesh|  24|\n",
      "|Abhishek|  20|\n",
      "|Dharmesh|  35|\n",
      "+--------+----+\n",
      "\n"
     ]
    }
   ],
   "source": [
    "# select multiple rows\n",
    "df_spark.select(['Name','Age ']).show()"
   ]
  },
  {
   "cell_type": "code",
   "execution_count": 20,
   "id": "2e7f022a-3340-4894-9231-48b68df2745a",
   "metadata": {},
   "outputs": [
    {
     "data": {
      "text/plain": [
       "[('Name', 'string'), ('Age ', 'int'), ('Experience', 'int')]"
      ]
     },
     "execution_count": 20,
     "metadata": {},
     "output_type": "execute_result"
    }
   ],
   "source": [
    "df_spark.dtypes"
   ]
  },
  {
   "cell_type": "code",
   "execution_count": 21,
   "id": "4c576c5b-7887-4aec-97ff-a9fd015fc60e",
   "metadata": {},
   "outputs": [
    {
     "name": "stdout",
     "output_type": "stream",
     "text": [
      "+-------+--------+------------------+------------------+\n",
      "|summary|    Name|              Age |        Experience|\n",
      "+-------+--------+------------------+------------------+\n",
      "|  count|       3|                 3|                 3|\n",
      "|   mean|    null|26.333333333333332|               4.0|\n",
      "| stddev|    null|  7.76745346515403|1.7320508075688772|\n",
      "|    min|Abhishek|                20|                 2|\n",
      "|    max|  Rakesh|                35|                 5|\n",
      "+-------+--------+------------------+------------------+\n",
      "\n"
     ]
    }
   ],
   "source": [
    "df_spark.describe().show()"
   ]
  },
  {
   "cell_type": "code",
   "execution_count": 22,
   "id": "a943e429-b0f9-4e63-9a96-0f5236564fee",
   "metadata": {},
   "outputs": [],
   "source": [
    "# adding columns in dataframe\n",
    "\n",
    "df_spark=df_spark.withColumn(\"Experience After 2 yr\",df_spark['Experience']+2)"
   ]
  },
  {
   "cell_type": "code",
   "execution_count": 23,
   "id": "6099dd8b-7548-4c5b-97fc-aa5dede6f443",
   "metadata": {},
   "outputs": [
    {
     "name": "stdout",
     "output_type": "stream",
     "text": [
      "+--------+----+----------+---------------------+\n",
      "|    Name|Age |Experience|Experience After 2 yr|\n",
      "+--------+----+----------+---------------------+\n",
      "|  Rakesh|  24|         5|                    7|\n",
      "|Abhishek|  20|         5|                    7|\n",
      "|Dharmesh|  35|         2|                    4|\n",
      "+--------+----+----------+---------------------+\n",
      "\n"
     ]
    }
   ],
   "source": [
    "df_spark.show()"
   ]
  },
  {
   "cell_type": "code",
   "execution_count": 24,
   "id": "8950930b-c136-4014-932f-75a090bae461",
   "metadata": {},
   "outputs": [
    {
     "name": "stdout",
     "output_type": "stream",
     "text": [
      "+--------+----+----------+---------------------+\n",
      "|    Name|Age |Experience|Experience After 2 yr|\n",
      "+--------+----+----------+---------------------+\n",
      "|  Rakesh|  24|         5|                    7|\n",
      "|Abhishek|  20|         5|                    7|\n",
      "|Dharmesh|  35|         2|                    4|\n",
      "+--------+----+----------+---------------------+\n",
      "\n"
     ]
    }
   ],
   "source": [
    "df_spark.show()"
   ]
  },
  {
   "cell_type": "code",
   "execution_count": 25,
   "id": "0c28dc84-31ef-415d-9165-32f11f260d43",
   "metadata": {},
   "outputs": [
    {
     "name": "stdout",
     "output_type": "stream",
     "text": [
      "+--------+----+----------+\n",
      "|    Name|Age |Experience|\n",
      "+--------+----+----------+\n",
      "|  Rakesh|  24|         5|\n",
      "|Abhishek|  20|         5|\n",
      "|Dharmesh|  35|         2|\n",
      "+--------+----+----------+\n",
      "\n"
     ]
    }
   ],
   "source": [
    "# dropping a column\n",
    "df_spark.drop('Experience After 2 yr').show()"
   ]
  },
  {
   "cell_type": "code",
   "execution_count": 26,
   "id": "5d218d18",
   "metadata": {},
   "outputs": [
    {
     "name": "stdout",
     "output_type": "stream",
     "text": [
      "+--------+----+----------+---------------------+\n",
      "|New Name|Age |Experience|Experience After 2 yr|\n",
      "+--------+----+----------+---------------------+\n",
      "|  Rakesh|  24|         5|                    7|\n",
      "|Abhishek|  20|         5|                    7|\n",
      "|Dharmesh|  35|         2|                    4|\n",
      "+--------+----+----------+---------------------+\n",
      "\n"
     ]
    }
   ],
   "source": [
    "df_spark.withColumnRenamed(\"Name\",\"New Name\").show()"
   ]
  },
  {
   "cell_type": "code",
   "execution_count": 27,
   "id": "42448de6",
   "metadata": {},
   "outputs": [],
   "source": [
    "# filter"
   ]
  }
 ],
 "metadata": {
  "kernelspec": {
   "display_name": "Python 3 (ipykernel)",
   "language": "python",
   "name": "python3"
  },
  "language_info": {
   "codemirror_mode": {
    "name": "ipython",
    "version": 3
   },
   "file_extension": ".py",
   "mimetype": "text/x-python",
   "name": "python",
   "nbconvert_exporter": "python",
   "pygments_lexer": "ipython3",
   "version": "3.11.4"
  }
 },
 "nbformat": 4,
 "nbformat_minor": 5
}
