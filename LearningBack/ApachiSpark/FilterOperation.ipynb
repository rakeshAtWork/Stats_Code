{
 "cells": [
  {
   "cell_type": "code",
   "execution_count": null,
   "metadata": {},
   "outputs": [],
   "source": [
    "from pyspark.sql import SparkSession"
   ]
  },
  {
   "cell_type": "code",
   "execution_count": null,
   "metadata": {},
   "outputs": [],
   "source": [
    "spark = SparkSession.builder.appName('dataFrame').getOrCreate()"
   ]
  },
  {
   "cell_type": "code",
   "execution_count": null,
   "metadata": {},
   "outputs": [],
   "source": [
    "df_spark= spark.read.csv('test1.csv',header=True,inferSchema=True)"
   ]
  },
  {
   "cell_type": "code",
   "execution_count": null,
   "metadata": {},
   "outputs": [
    {
     "name": "stdout",
     "output_type": "stream",
     "text": [
      "+------+----+----+------+\n",
      "|  Name| Age| Exp|Salary|\n",
      "+------+----+----+------+\n",
      "|  Ramu|  31|  10| 40000|\n",
      "|Rakesh|  85|   9| 36000|\n",
      "| Rihan|  36|   8| 72000|\n",
      "|  Dewa|  35|   1| 52000|\n",
      "|  Bumi|  39|   2| 20000|\n",
      "|Suhani|  32|   5| 25000|\n",
      "| Sonam|null|null| 40000|\n",
      "|  null|  23|  10| 38000|\n",
      "|  null|  36|null|  null|\n",
      "+------+----+----+------+\n",
      "\n"
     ]
    }
   ],
   "source": [
    "df_spark.show()"
   ]
  },
  {
   "cell_type": "code",
   "execution_count": null,
   "metadata": {},
   "outputs": [],
   "source": [
    "df_spark=df_spark.na.drop(how='any')"
   ]
  },
  {
   "cell_type": "code",
   "execution_count": null,
   "metadata": {},
   "outputs": [
    {
     "name": "stdout",
     "output_type": "stream",
     "text": [
      "+------+---+---+------+\n",
      "|  Name|Age|Exp|Salary|\n",
      "+------+---+---+------+\n",
      "|  Ramu| 31| 10| 40000|\n",
      "|Rakesh| 85|  9| 36000|\n",
      "| Rihan| 36|  8| 72000|\n",
      "|  Dewa| 35|  1| 52000|\n",
      "|  Bumi| 39|  2| 20000|\n",
      "|Suhani| 32|  5| 25000|\n",
      "+------+---+---+------+\n",
      "\n"
     ]
    }
   ],
   "source": [
    "df_spark.show()"
   ]
  },
  {
   "cell_type": "code",
   "execution_count": null,
   "metadata": {},
   "outputs": [],
   "source": [
    "# filter operation \n",
    "\n",
    "df_spark1=df_spark.filter(\"Salary<=25000\")"
   ]
  },
  {
   "cell_type": "code",
   "execution_count": null,
   "metadata": {},
   "outputs": [
    {
     "name": "stdout",
     "output_type": "stream",
     "text": [
      "+------+---+---+------+\n",
      "|  Name|Age|Exp|Salary|\n",
      "+------+---+---+------+\n",
      "|  Bumi| 39|  2| 20000|\n",
      "|Suhani| 32|  5| 25000|\n",
      "+------+---+---+------+\n",
      "\n"
     ]
    },
    {
     "data": {
      "text/plain": [
       "pyspark.sql.dataframe.DataFrame"
      ]
     },
     "execution_count": 12,
     "metadata": {},
     "output_type": "execute_result"
    }
   ],
   "source": [
    "df_spark1.show()\n",
    "\n",
    "type(df_spark1)"
   ]
  },
  {
   "cell_type": "code",
   "execution_count": null,
   "metadata": {},
   "outputs": [
    {
     "name": "stdout",
     "output_type": "stream",
     "text": [
      "+------+---+---+------+\n",
      "|  Name|Age|Exp|Salary|\n",
      "+------+---+---+------+\n",
      "|  Ramu| 31| 10| 40000|\n",
      "|Rakesh| 85|  9| 36000|\n",
      "| Rihan| 36|  8| 72000|\n",
      "|  Dewa| 35|  1| 52000|\n",
      "|  Bumi| 39|  2| 20000|\n",
      "|Suhani| 32|  5| 25000|\n",
      "+------+---+---+------+\n",
      "\n",
      "+------+---+---+------+\n",
      "|  Name|Age|Exp|Salary|\n",
      "+------+---+---+------+\n",
      "|  Bumi| 39|  2| 20000|\n",
      "|Suhani| 32|  5| 25000|\n",
      "+------+---+---+------+\n",
      "\n"
     ]
    }
   ],
   "source": [
    "# another way of writing filhter operation\n",
    "\n",
    "df_spark.show()\n",
    "\n",
    "df_spark.filter(df_spark['Salary']<=25000).show()"
   ]
  },
  {
   "cell_type": "code",
   "execution_count": 22,
   "metadata": {},
   "outputs": [
    {
     "name": "stdout",
     "output_type": "stream",
     "text": [
      "root\n",
      " |-- Name: string (nullable = true)\n",
      " |-- Age: integer (nullable = true)\n",
      " |-- Exp: integer (nullable = true)\n",
      " |-- Salary: integer (nullable = true)\n",
      "\n"
     ]
    }
   ],
   "source": [
    "df_spark.printSchema()"
   ]
  },
  {
   "cell_type": "code",
   "execution_count": 28,
   "metadata": {},
   "outputs": [
    {
     "name": "stdout",
     "output_type": "stream",
     "text": [
      "+------+---+---+------+\n",
      "|  Name|Age|Exp|Salary|\n",
      "+------+---+---+------+\n",
      "|Suhani| 32|  5| 25000|\n",
      "+------+---+---+------+\n",
      "\n"
     ]
    }
   ],
   "source": [
    "# we can have multiple condition for filter function of dataFrame\n",
    "\n",
    "df_spark.filter((df_spark['Age']<35) & (df_spark['Salary']<=25000)).show()"
   ]
  },
  {
   "cell_type": "code",
   "execution_count": 29,
   "metadata": {},
   "outputs": [
    {
     "name": "stdout",
     "output_type": "stream",
     "text": [
      "+------+---+---+------+\n",
      "|  Name|Age|Exp|Salary|\n",
      "+------+---+---+------+\n",
      "|  Ramu| 31| 10| 40000|\n",
      "|Rakesh| 85|  9| 36000|\n",
      "| Rihan| 36|  8| 72000|\n",
      "|  Dewa| 35|  1| 52000|\n",
      "+------+---+---+------+\n",
      "\n"
     ]
    }
   ],
   "source": [
    "df_spark.filter(~(df_spark['Salary']<=25000)).show()"
   ]
  },
  {
   "cell_type": "code",
   "execution_count": null,
   "metadata": {},
   "outputs": [],
   "source": []
  }
 ],
 "metadata": {
  "kernelspec": {
   "display_name": "Python 3",
   "language": "python",
   "name": "python3"
  },
  "language_info": {
   "codemirror_mode": {
    "name": "ipython",
    "version": 3
   },
   "file_extension": ".py",
   "mimetype": "text/x-python",
   "name": "python",
   "nbconvert_exporter": "python",
   "pygments_lexer": "ipython3",
   "version": "3.11.4"
  },
  "orig_nbformat": 4
 },
 "nbformat": 4,
 "nbformat_minor": 2
}
